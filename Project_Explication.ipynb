{
 "cells": [
  {
   "cell_type": "markdown",
   "metadata": {},
   "source": [
    "<center><img src='cs-logo.png' width=200></center>\n",
    "\n",
    "\n",
    "\n",
    "<h6><center></center></h6>\n",
    "\n",
    "<h1>\n",
    "<hr style=\" border:none; height:3px;\">\n",
    "<center> Detection de points de fuite dans des images de routes </center>\n",
    "<hr style=\" border:none; height:3px;\">\n",
    "</h1>\n",
    "\n",
    "\n",
    "\n",
    "\n",
    "L'objectif de ce projet est de faire un état de l'art sur les approches actuelles de détection de points de fuite et proposer une démarche particulière en utilisant les techniques de traitement d'images vues en cours ."
   ]
  },
  {
   "cell_type": "markdown",
   "metadata": {},
   "source": [
    "<h1>\n",
    "<hr style=\" border:none; height:3px;\">\n",
    "<center> Cas d'usage identifié : Approximation de la reconstruction des scènes 3D afin de faciliter la navigation visuelle des voitures </center>\n",
    "<hr style=\" border:none; height:3px;\">\n",
    "</h1>"
   ]
  },
  {
   "cell_type": "markdown",
   "metadata": {},
   "source": [
    "La détection du point de fuite est une technique cruciale dans le domaine de la vision par ordinateur, particulièrement dans le contexte de la navigation automobile assistée. Dans ce projet, nous explorons comment cette technique peut être appliquée pour reconstruire des scènes en trois dimensions, facilitant ainsi la navigation visuelle des véhicules.\n",
    "\n",
    "Dans le domaine de la conduite autonome et de la navigation assistée, les véhicules doivent être capables de comprendre leur environnement tridimensionnel pour se déplacer de manière sûre et efficace. La détection du point de fuite est l'un des outils essentiels utilisés pour obtenir une représentation tridimensionnelle de la scène à partir d'images en deux dimensions.\n",
    "\n",
    "Nous utiliserons des techniques de traitement d'images et de vision par ordinateur pour détecter les lignes convergentes et estimer les points de fuite dans les images. En utilisant ces informations, nous essaierons d'approximer l'image à la scène 3D correspondante, en vu de nous rapprocher de la perception spatiale des véhicules autonomes et assistés.\n",
    "\n",
    "Les images ci-dessous montre l'idée qui nous a poussé à travailler sur ce projet :"
   ]
  },
  {
   "cell_type": "markdown",
   "metadata": {},
   "source": [
    "<div style=\"display: flex; justify-content: center;\">\n",
    "    <img src='https://i.ytimg.com/vi/17D6PXB1rGQ/maxresdefault.jpg' style=\"margin-right: 10px;\" width=\"400\"/>\n",
    "    <img src='https://encrypted-tbn0.gstatic.com/images?q=tbn:ANd9GcQpT81MSsrp7a67DOhxNqpPHXEuUU-0VsAlyw&s' style=\"margin-left: 10px;\" width=\"400\"/>\n",
    "</div>\n"
   ]
  },
  {
   "cell_type": "markdown",
   "metadata": {},
   "source": [
    "## **Qu'est ce que le vnp (Vanishing Point) ?**"
   ]
  }
 ],
 "metadata": {
  "language_info": {
   "name": "python"
  }
 },
 "nbformat": 4,
 "nbformat_minor": 2
}
