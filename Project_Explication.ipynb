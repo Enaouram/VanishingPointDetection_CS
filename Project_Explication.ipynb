{
 "cells": [
  {
   "cell_type": "markdown",
   "metadata": {},
   "source": [
    "<center><img src='cs-logo.png' width=200></center>\n",
    "\n",
    "\n",
    "\n",
    "<h6><center></center></h6>\n",
    "\n",
    "<h1>\n",
    "<hr style=\" border:none; height:3px;\">\n",
    "<center> Detection de points de fuite dans des images de routes </center>\n",
    "<hr style=\" border:none; height:3px;\">\n",
    "</h1>\n",
    "\n",
    "\n",
    "\n",
    "\n",
    "L'objectif de ce projet est de faire un état de l'art sur les approches actuelles de détection de points de fuite et proposer une démarche particulière en utilisant les techniques de traitement d'images vues en cours ."
   ]
  },
  {
   "cell_type": "markdown",
   "metadata": {},
   "source": [
    "<h1>\n",
    "<hr style=\" border:none; height:3px;\">\n",
    "<center> Cas d'usage identifié : Approximation de la reconstruction des scènes 3D afin de faciliter la navigation visuelle des voitures </center>\n",
    "<hr style=\" border:none; height:3px;\">\n",
    "</h1>"
   ]
  },
  {
   "cell_type": "markdown",
   "metadata": {},
   "source": [
    "La détection du point de fuite est une technique cruciale dans le domaine de la vision par ordinateur, particulièrement dans le contexte de la navigation automobile assistée. Dans ce projet, nous explorons comment cette technique peut être appliquée pour reconstruire des scènes en trois dimensions, facilitant ainsi la navigation visuelle des véhicules.\n",
    "\n",
    "Dans le domaine de la conduite autonome et de la navigation assistée, les véhicules doivent être capables de comprendre leur environnement tridimensionnel pour se déplacer de manière sûre et efficace. La détection du point de fuite est l'un des outils essentiels utilisés pour obtenir une représentation tridimensionnelle de la scène à partir d'images en deux dimensions.\n",
    "\n",
    "Nous utiliserons des techniques de traitement d'images et de vision par ordinateur pour détecter les lignes convergentes et estimer les points de fuite dans les images. En utilisant ces informations, nous essaierons d'approximer l'image à la scène 3D correspondante, en vu de nous rapprocher de la perception spatiale des véhicules autonomes et assistés.\n",
    "\n",
    "Les images ci-dessous montre l'idée qui nous a poussé à travailler sur ce projet :"
   ]
  },
  {
   "cell_type": "markdown",
   "metadata": {},
   "source": [
    "<div style=\"display: flex; justify-content: center;\">\n",
    "    <img src='https://i.ytimg.com/vi/17D6PXB1rGQ/maxresdefault.jpg' style=\"margin-right: 10px;\" width=\"400\"/>\n",
    "    <img src='https://encrypted-tbn0.gstatic.com/images?q=tbn:ANd9GcQpT81MSsrp7a67DOhxNqpPHXEuUU-0VsAlyw&s' style=\"margin-left: 10px;\" width=\"400\"/>\n",
    "</div>\n"
   ]
  },
  {
   "cell_type": "markdown",
   "metadata": {},
   "source": [
    "## **Qu'est ce que le vnp (Vanishing Point) ?**"
   ]
  },
  {
   "cell_type": "markdown",
   "metadata": {},
   "source": [
    "Le monde dans lequel nous vivons est généralement représenté par un ensemble de trois coordonnées spatiales (x, y, z) et est donc considéré comme tridimensionnel. Cependant, la plupart des outils visuels utilisés pour étudier le monde (y compris l'œil humain) se basent sur une représentation bidimensionnelle de celui-ci. Pour permettre cette simplification, l'image réelle en 3D doit être projetée sur un plan en 2D (par exemple, la rétine ou le capteur d'une caméra), comme illustré dans la Figure 1. En conséquence de cette projection, la dimension z est aplatie sur le plan, faisant en sorte que toutes les lignes parallèles qui se trouvaient initialement sur le même plan (lignes coplanaires) se rejoignent en un point, appelé le Point de Fuite (VP)."
   ]
  },
  {
   "cell_type": "markdown",
   "metadata": {},
   "source": [
    "<div style=\"display: flex; justify-content: center;\">\n",
    "    <img src='https://miro.medium.com/v2/resize:fit:640/format:webp/1*dSCDpDIPHEy9CNALwt6WXg.png' style=\"margin-right: 10px;\" width=\"400\"/>\n",
    "</div>\n"
   ]
  },
  {
   "cell_type": "markdown",
   "metadata": {},
   "source": [
    "Figure 1. Vanishing Point, the point where 3D parallel lines meet in the 2D plane. Source: Mgunyho, original drawing by Niharikamaheshwari, CC BY-SA 4.0 <https://creativecommons.org/licenses/by-sa/4.0>, via Wikimedia Commons."
   ]
  },
  {
   "cell_type": "markdown",
   "metadata": {},
   "source": [
    "### Importance et Utilisation des Points de Fuite\n",
    "\n",
    "Trouver le point de fuite (VP) d'une image peut sembler être un exercice peu utile au premier abord. À quoi pourrait servir un point reliant toutes les lignes parallèles d'une image ? En réalité, les points de fuite apportent une quantité significative d'informations. Les environnements réels sont souvent caractérisés par un nombre important de lignes parallèles et d'arêtes orthogonales, ce qui correspond à l'Assomption du Monde de Manhattan, permettant d'identifier un ou plusieurs points de fuite. Bien sûr, la position de ces points peut varier selon l'orientation de la caméra (ou de l'œil) par rapport à l'environnement lui-même.\n",
    "\n",
    "Ainsi, une première caractéristique importante qui peut être estimée en connaissant les points de fuite est l'orientation de la scène observée par rapport à la caméra, souvent approximée comme l'angle entre l'axe de la caméra et l'orientation de la surface. Cela est particulièrement utile dans les scénarios de conduite autonome, pour déterminer dans quelle direction se déplace une voiture ou un camion.\n",
    "\n",
    "De plus, identifier plusieurs points de fuite (le cas échéant) permet de calculer tous les angles entre la caméra et le sol. Cela permet d'établir l'orientation de différents objets dans la scène, même s'ils sont liés à différents points de fuite.\n",
    "\n",
    "#### Exemple d'Application\n",
    "Prenons l'exemple d'une route droite en milieu urbain, où les bords des bâtiments et les lignes de la route convergent vers un point de fuite à l'horizon. En analysant ce point de fuite, nous pouvons déduire si la route tourne ou continue tout droit, ce qui est crucial pour les systèmes de navigation des véhicules autonomes.\n",
    "\n",
    "#### Techniques Utilisées dans Ce Projet\n",
    "Dans notre projet, nous avons exploré plusieurs techniques pour la détection des points de fuite :\n",
    "1. **Méthode Inspirée par RANSAC** : Pour gérer efficacement les valeurs aberrantes et obtenir une estimation robuste du point de fuite.\n",
    "2. **Utilisation des Équations de Lignes** : Pour analyser mathématiquement les intersections des lignes détectées et localiser les points de fuite potentiels.\n",
    "3. **Clustering des Points d'Intérêt** : Cette approche nous a permis de regrouper les points où les lignes semblent converger, facilitant l'identification des points de fuite multiples dans des scènes complexes.\n",
    "\n",
    "Chaque méthode a été appliquée et évaluée afin de déterminer son efficacité dans différents scénarios de test, contribuant à une compréhension plus riche de la dynamique visuelle des environnements urbains et routiers.\n"
   ]
  },
  {
   "cell_type": "markdown",
   "metadata": {},
   "source": [
    "Dans un second temps, le projet portera aussi sur les techniques à utiliser face à des images un peu complexes (présence de beaucoup de monde, des arrières-plans complexes, ...) notemment en utilisant de la segmentation et des techniques d'optimisation des lignes détectés soit par l'algorithme de transformée de Hough soit par le LSD (LineSegmentDetector)."
   ]
  },
  {
   "cell_type": "markdown",
   "metadata": {},
   "source": [
    "Enfin, une troisième partie abordera le sujet de reconstruction de la scène 3D à partir des lignes de fuites détectés."
   ]
  }
 ],
 "metadata": {
  "language_info": {
   "name": "python"
  }
 },
 "nbformat": 4,
 "nbformat_minor": 2
}
